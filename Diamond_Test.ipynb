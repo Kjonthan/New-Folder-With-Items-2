{
  "nbformat": 4,
  "nbformat_minor": 0,
  "metadata": {
    "colab": {
      "provenance": []
    },
    "kernelspec": {
      "name": "python3",
      "display_name": "Python 3"
    },
    "language_info": {
      "name": "python"
    }
  },
  "cells": [
    {
      "cell_type": "code",
      "execution_count": 48,
      "metadata": {
        "id": "sZDmWt23A1X8"
      },
      "outputs": [],
      "source": [
        "import pandas as pd\n",
        "import numpy as np\n",
        "import matplotlib.pyplot as plt\n",
        "import seaborn as sns\n",
        "import pickle\n",
        "from pickle import dump\n",
        "sns.set()\n",
        "\n",
        "from sklearn.model_selection import train_test_split\n",
        "from sklearn.linear_model import LinearRegression\n",
        "from sklearn.tree import DecisionTreeRegressor\n",
        "from sklearn.ensemble import RandomForestRegressor"
      ]
    },
    {
      "cell_type": "code",
      "source": [
        "models= pickle.load(open('/content/drive/MyDrive/Colab Notebooks/Projects/Diamond Assignment/models.pkl', 'rb'))"
      ],
      "metadata": {
        "id": "uOEfNab8BDbI"
      },
      "execution_count": 49,
      "outputs": []
    },
    {
      "cell_type": "code",
      "source": [
        "test_x = np.zeros((1, 4))\n",
        "test_x"
      ],
      "metadata": {
        "colab": {
          "base_uri": "https://localhost:8080/"
        },
        "id": "qe7j9ItcCur5",
        "outputId": "255f9a40-ae9f-4d46-837b-311b49f7d749"
      },
      "execution_count": 50,
      "outputs": [
        {
          "output_type": "execute_result",
          "data": {
            "text/plain": [
              "array([[0., 0., 0., 0.]])"
            ]
          },
          "metadata": {},
          "execution_count": 50
        }
      ]
    },
    {
      "cell_type": "code",
      "source": [
        "test_x[0, 0] =       1.5\n",
        "test_x[0, 1] =       2\n",
        "test_x[0, 2] =       4\n",
        "test_x[0, 3] =   2"
      ],
      "metadata": {
        "id": "PP9JLdMSCwHB"
      },
      "execution_count": 59,
      "outputs": []
    },
    {
      "cell_type": "code",
      "source": [
        "test_x"
      ],
      "metadata": {
        "colab": {
          "base_uri": "https://localhost:8080/"
        },
        "id": "XTbv_v2ECwOl",
        "outputId": "b00eb4e6-bf31-485e-bca2-95dd6f0222a7"
      },
      "execution_count": 60,
      "outputs": [
        {
          "output_type": "execute_result",
          "data": {
            "text/plain": [
              "array([[1.5, 2. , 4. , 2. ]])"
            ]
          },
          "metadata": {},
          "execution_count": 60
        }
      ]
    },
    {
      "cell_type": "code",
      "source": [
        "#Linear Regression Model\n",
        "predictions= models.predict(test_x)\n",
        "print(f\"the model {models} predicts a price of a diamond at ${(round(predictions[0]))}\")"
      ],
      "metadata": {
        "colab": {
          "base_uri": "https://localhost:8080/"
        },
        "id": "-qdgsCV7EI_J",
        "outputId": "445bb23c-eda8-4484-d5bb-6239a864b30f"
      },
      "execution_count": 61,
      "outputs": [
        {
          "output_type": "stream",
          "name": "stdout",
          "text": [
            "the model LinearRegression() predicts a price of a diamond at $9497\n"
          ]
        }
      ]
    }
  ]
}